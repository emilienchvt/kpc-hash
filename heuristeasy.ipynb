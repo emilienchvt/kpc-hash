{
 "cells": [
  {
   "cell_type": "code",
   "execution_count": 1,
   "metadata": {},
   "outputs": [],
   "source": [
    "#coding: utf8\n",
    "from src.utils import HashCodeProblem\n",
    "import numpy as np\n",
    "import operator"
   ]
  },
  {
   "cell_type": "code",
   "execution_count": 2,
   "metadata": {},
   "outputs": [],
   "source": [
    "def heuristeasy(Mscores, ph):\n",
    "    \n",
    "    '''\n",
    "    Mscores : la matrice de scores\n",
    "    ph : l'indice de la photo de laquelle on part\n",
    "    '''\n",
    "    \n",
    "    nb_photos = Mscores.shape[0]\n",
    "    list_ph = [i for i in range(nb_photos)]\n",
    "    \n",
    "    nb_regardees = 0\n",
    "\n",
    "    out_couplage = [ph]\n",
    "    final_score = 0\n",
    "\n",
    "    while nb_regardees < nb_photos:\n",
    "    \n",
    "        list_ph.remove(ph)\n",
    "    \n",
    "        if len(list_ph) == 0: break\n",
    "    \n",
    "        scores_ph = {}\n",
    "    \n",
    "        for other_ph in list_ph:\n",
    "            scores_ph[other_ph] = Mscores[ph][other_ph]\n",
    "            score_ph = max(list(scores_ph.values()))\n",
    "    \n",
    "        kept_ph = max(scores_ph.items(), key=operator.itemgetter(1))[0]\n",
    "        out_couplage.append(kept_ph)\n",
    "        final_score += score_ph\n",
    "    \n",
    "        ph = kept_ph\n",
    "        nb_regardees += 1\n",
    "        \n",
    "    return final_score, out_couplage"
   ]
  },
  {
   "cell_type": "code",
   "execution_count": 7,
   "metadata": {},
   "outputs": [
    {
     "name": "stdout",
     "output_type": "stream",
     "text": [
      "Test Scores Matrix :\n",
      " [[12 11  1 10 15  5  8 14]\n",
      " [11 18 10  8 13 17 10 11]\n",
      " [ 1 10 16 18  6 12 10 18]\n",
      " [10  8 18  8 10 18 15 15]\n",
      " [15 13  6 10  4  9  9 16]\n",
      " [ 5 17 12 18  9 10 13  2]\n",
      " [ 8 10 10 15  9 13 12  6]\n",
      " [14 11 18 15 16  2  6  2]]\n",
      "\n",
      "\n",
      "Scores : 112\n",
      "Slide Show : [0, 4, 7, 2, 3, 5, 1, 6]\n"
     ]
    },
    {
     "name": "stderr",
     "output_type": "stream",
     "text": [
      "/Users/galinette/Desktop/kpc-hash/hashcode/lib/python3.6/site-packages/ipykernel_launcher.py:1: DeprecationWarning: This function is deprecated. Please call randint(0, 10 + 1) instead\n",
      "  \"\"\"Entry point for launching an IPython kernel.\n"
     ]
    }
   ],
   "source": [
    "b = np.random.random_integers(0,10,size=(8,8))\n",
    "scores_matrix = (b + b.T)\n",
    "init_ph = 0 # indice de la première photo regardée\n",
    "\n",
    "hash_score, slide_show = heuristeasy(scores_matrix, init_ph)\n",
    "\n",
    "print('Test Scores Matrix :\\n', scores_matrix)\n",
    "print('\\n')\n",
    "print('Scores :', hash_score)\n",
    "print('Slide Show :', slide_show)"
   ]
  },
  {
   "cell_type": "code",
   "execution_count": null,
   "metadata": {},
   "outputs": [],
   "source": []
  }
 ],
 "metadata": {
  "kernelspec": {
   "display_name": "Python 3",
   "language": "python",
   "name": "python3"
  },
  "language_info": {
   "codemirror_mode": {
    "name": "ipython",
    "version": 3
   },
   "file_extension": ".py",
   "mimetype": "text/x-python",
   "name": "python",
   "nbconvert_exporter": "python",
   "pygments_lexer": "ipython3",
   "version": "3.6.4"
  }
 },
 "nbformat": 4,
 "nbformat_minor": 2
}
