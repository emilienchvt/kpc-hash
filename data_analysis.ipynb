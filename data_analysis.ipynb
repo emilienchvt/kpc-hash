{
 "cells": [
  {
   "cell_type": "code",
   "execution_count": 1,
   "metadata": {},
   "outputs": [],
   "source": [
    "# imports\n",
    "import numpy as np"
   ]
  },
  {
   "cell_type": "code",
   "execution_count": 2,
   "metadata": {},
   "outputs": [],
   "source": [
    "# Load the data\n",
    "scenario_file = \"a_simple.txt\""
   ]
  },
  {
   "cell_type": "code",
   "execution_count": 3,
   "metadata": {},
   "outputs": [],
   "source": [
    "def parse_input(input_file):\n",
    "    f = open(input_file, 'r')\n",
    "    first_line = f.readline()\n",
    "\n",
    "    row_count, column_count, min_ingredients, max_area = tuple(map(int, first_line.split(' ')))\n",
    "\n",
    "    grid = []\n",
    "    for i in range(row_count):\n",
    "        grid.append(f.readline().rstrip())\n",
    "    \n",
    "    f.close()\n",
    "    return row_count, column_count, min_ingredients, max_area, grid"
   ]
  },
  {
   "cell_type": "code",
   "execution_count": 4,
   "metadata": {},
   "outputs": [],
   "source": [
    "def solve_instance(row_count, column_count, min_ingredients, max_area, grid, debug=False):\n",
    "    result_slices = []\n",
    "    for r in range(row_count):\n",
    "        if debug: \n",
    "            print('Column {}'.format(r))\n",
    "        counts = {\n",
    "            \"T\":0,\n",
    "            \"M\":0,\n",
    "        }\n",
    "        beg=0\n",
    "        i=0\n",
    "        while i<column_count:\n",
    "            if debug:\n",
    "                print('Cursor {}'.format(i))\n",
    "            counts[grid[r][i]]+=1\n",
    "            if counts['T'] > min_ingredients and counts['M'] > min_ingredients and i-beg+1<=max_area:\n",
    "                result_slices.append((r, beg, r, i))\n",
    "                beg=i+1\n",
    "                counts = {\n",
    "                    \"T\":0,\n",
    "                    \"M\":0,\n",
    "                }\n",
    "            i+=1\n",
    "    return result_slices"
   ]
  },
  {
   "cell_type": "code",
   "execution_count": 5,
   "metadata": {},
   "outputs": [],
   "source": [
    "def format_output(result_slices, output_name, test=False):\n",
    "    file = open(output_name, 'w')\n",
    "    n_slices = len(result_slices)\n",
    "    score = sum([(c2-c1+1) * (r2-r1+1) for ((r1, c1, r2, c2)) in result_slices])\n",
    "    file.write('{}\\n'.format(n_slices))\n",
    "    if test:\n",
    "        print('{}\\n'.format(n_slices))\n",
    "    else:\n",
    "        print('You scored {}'.format(score))\n",
    "    for result_slice in result_slices:\n",
    "        r1, c1, r2, c2 = result_slice\n",
    "        file.write('{} {} {} {}\\n'.format(r1, c1, r2, c2))\n",
    "        if test:\n",
    "            print('{} {} {} {}\\n'.format(r1, c1, r2, c2))\n",
    "    file.close()\n",
    "    print('Saved in {}'.format(output_name))"
   ]
  },
  {
   "cell_type": "code",
   "execution_count": null,
   "metadata": {},
   "outputs": [],
   "source": [
    "def run_instances(instances):\n",
    "    for instance in instances:\n",
    "        instance_data = parse_input(instance)\n",
    "        slices = solve_instance(*instance_data)\n",
    "        format_output(slices, 'outputs/{}'.format(instance))"
   ]
  }
 ],
 "metadata": {
  "kernelspec": {
   "display_name": "Python 3",
   "language": "python",
   "name": "python3"
  },
  "language_info": {
   "codemirror_mode": {
    "name": "ipython",
    "version": 3
   },
   "file_extension": ".py",
   "mimetype": "text/x-python",
   "name": "python",
   "nbconvert_exporter": "python",
   "pygments_lexer": "ipython3",
   "version": "3.7.0"
  }
 },
 "nbformat": 4,
 "nbformat_minor": 2
}
