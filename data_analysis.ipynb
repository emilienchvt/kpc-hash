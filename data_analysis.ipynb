{
 "cells": [
  {
   "cell_type": "code",
   "execution_count": 1,
   "metadata": {},
   "outputs": [],
   "source": [
    "# Import the class\n",
    "from src.utils import HashCodeProblem"
   ]
  },
  {
   "cell_type": "code",
   "execution_count": 2,
   "metadata": {},
   "outputs": [],
   "source": [
    "# Instantiate\n",
    "problem = HashCodeProblem()"
   ]
  },
  {
   "cell_type": "code",
   "execution_count": 3,
   "metadata": {},
   "outputs": [],
   "source": [
    "# Parse the example input\n",
    "# This method has to be overwritten for another problem to match the input\n",
    "example_input = problem.parse_input('a_example.in')"
   ]
  },
  {
   "cell_type": "code",
   "execution_count": 4,
   "metadata": {},
   "outputs": [
    {
     "data": {
      "text/plain": [
       "(3, 5, 1, 6, ['TTTTT', 'TMMMT', 'TTTTT'])"
      ]
     },
     "execution_count": 4,
     "metadata": {},
     "output_type": "execute_result"
    }
   ],
   "source": [
    "example_input"
   ]
  },
  {
   "cell_type": "code",
   "execution_count": 5,
   "metadata": {},
   "outputs": [],
   "source": [
    "# Solve the example instance\n",
    "# This method has to be overwritten with the solution\n",
    "example_solution = problem.solve_instance(*example_input)"
   ]
  },
  {
   "cell_type": "code",
   "execution_count": 6,
   "metadata": {},
   "outputs": [
    {
     "data": {
      "text/plain": [
       "[(1, 0, 1, 4)]"
      ]
     },
     "execution_count": 6,
     "metadata": {},
     "output_type": "execute_result"
    }
   ],
   "source": [
    "example_solution"
   ]
  },
  {
   "cell_type": "code",
   "execution_count": 7,
   "metadata": {},
   "outputs": [
    {
     "name": "stdout",
     "output_type": "stream",
     "text": [
      "You scored 5\n",
      "Saved in a_example.in\n"
     ]
    }
   ],
   "source": [
    "# Format the output to match the judge system (may also print score)\n",
    "# Format method to be overwritten to match the sepcifics of the problem\n",
    "problem.format_output(example_solution, 'a_example.in')"
   ]
  },
  {
   "cell_type": "code",
   "execution_count": 8,
   "metadata": {},
   "outputs": [
    {
     "name": "stdout",
     "output_type": "stream",
     "text": [
      "You scored 3626\n",
      "Saved in d_big.in\n",
      "You scored 3449\n",
      "Saved in c_medium.in\n",
      "You scored 9\n",
      "Saved in b_small.in\n",
      "Scored 5, less than current score 5\n"
     ]
    }
   ],
   "source": [
    "# Run all instances from the input, saved\n",
    "problem.solve_all_instances()"
   ]
  },
  {
   "cell_type": "code",
   "execution_count": 10,
   "metadata": {},
   "outputs": [
    {
     "name": "stdout",
     "output_type": "stream",
     "text": [
      "Scored 3626, less than current score 3626\n",
      "Scored 3449, less than current score 3449\n",
      "Scored 9, less than current score 9\n",
      "Scored 5, less than current score 5\n"
     ]
    }
   ],
   "source": [
    "# Run all instances again, nothing saved\n",
    "problem.solve_all_instances()"
   ]
  },
  {
   "cell_type": "code",
   "execution_count": 30,
   "metadata": {},
   "outputs": [],
   "source": [
    "def solve_instance(row_count, column_count, min_ingredients, max_area, grid, debug=False):\n",
    "    result_slices = []\n",
    "    for r in range(row_count):\n",
    "        if debug:\n",
    "            print('Column {}'.format(r))\n",
    "        counts = {\n",
    "            \"T\":0,\n",
    "            \"M\":0,\n",
    "        }\n",
    "        beg=0\n",
    "        i=0\n",
    "        while i<column_count:\n",
    "            if debug:\n",
    "                print('Cursor {}'.format(i))\n",
    "            counts[grid[r][i]]+=1\n",
    "            if counts['T'] > min_ingredients and counts['M'] > min_ingredients and i-beg+1<=max_area:\n",
    "                result_slices.append((r, beg, r, i))\n",
    "                beg=i+1\n",
    "                counts = {\n",
    "                    \"T\":0,\n",
    "                    \"M\":0,\n",
    "                }\n",
    "            i+=1\n",
    "    return result_slices"
   ]
  },
  {
   "cell_type": "code",
   "execution_count": 31,
   "metadata": {},
   "outputs": [],
   "source": [
    "problem.solve_instance = solve_instance"
   ]
  },
  {
   "cell_type": "code",
   "execution_count": 32,
   "metadata": {},
   "outputs": [
    {
     "name": "stdout",
     "output_type": "stream",
     "text": [
      "Scored 3626, less than current score 4991\n",
      "Scored 3449, less than current score 4649\n",
      "Scored 9, less than current score 9\n",
      "Scored 5, less than current score 5\n"
     ]
    }
   ],
   "source": [
    "problem.solve_all_instances()"
   ]
  },
  {
   "cell_type": "code",
   "execution_count": null,
   "metadata": {},
   "outputs": [],
   "source": []
  }
 ],
 "metadata": {
  "kernelspec": {
   "display_name": "Python 3",
   "language": "python",
   "name": "python3"
  },
  "language_info": {
   "codemirror_mode": {
    "name": "ipython",
    "version": 3
   },
   "file_extension": ".py",
   "mimetype": "text/x-python",
   "name": "python",
   "nbconvert_exporter": "python",
   "pygments_lexer": "ipython3",
   "version": "3.6.5"
  }
 },
 "nbformat": 4,
 "nbformat_minor": 2
}
